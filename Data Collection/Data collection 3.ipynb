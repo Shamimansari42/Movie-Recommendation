{
 "cells": [
  {
   "cell_type": "code",
   "execution_count": 1,
   "id": "e89708d9",
   "metadata": {},
   "outputs": [],
   "source": [
    "import pandas as pd\n",
    "import numpy as np"
   ]
  },
  {
   "cell_type": "code",
   "execution_count": 1,
   "id": "32ea4261",
   "metadata": {},
   "outputs": [],
   "source": [
    "from Fetching data import Data_Fetchings_18\n",
    "from Fetching data import Data_Fetchings_20\n",
    "from tmdbv3api import Movie\n",
    "from tmdbv3api import TMDb\n",
    "import json\n",
    "import requests"
   ]
  },
  {
   "cell_type": "code",
   "execution_count": null,
   "id": "0b04f98e",
   "metadata": {},
   "outputs": [],
   "source": [
    "data_fetching = Data_Fetchings_18()"
   ]
  },
  {
   "cell_type": "code",
   "execution_count": null,
   "id": "52041d3d",
   "metadata": {},
   "outputs": [],
   "source": [
    "link_2018 = \"https://en.wikipedia.org/wiki/List_of_American_films_of_2018\""
   ]
  },
  {
   "cell_type": "code",
   "execution_count": null,
   "id": "d0c03db1",
   "metadata": {},
   "outputs": [],
   "source": [
    "new_df18 = data_fetching.data_frame(link_2018)"
   ]
  },
  {
   "cell_type": "code",
   "execution_count": null,
   "id": "fa5780ed",
   "metadata": {},
   "outputs": [],
   "source": [
    "new_df19 = data_fetching.data_frame(link_2019)"
   ]
  },
  {
   "cell_type": "code",
   "execution_count": null,
   "id": "6374900f",
   "metadata": {},
   "outputs": [],
   "source": [
    "Data_Fetchings_20 = Data_Fetchings_20()"
   ]
  },
  {
   "cell_type": "code",
   "execution_count": null,
   "id": "29fb2174",
   "metadata": {},
   "outputs": [],
   "source": [
    "link_2020 = \"https://en.wikipedia.org/wiki/List_of_American_films_of_2020\""
   ]
  },
  {
   "cell_type": "code",
   "execution_count": null,
   "id": "23c7d02e",
   "metadata": {},
   "outputs": [],
   "source": [
    "new_df20 = Data_Fetchings_20.data_frame(link_2020)"
   ]
  },
  {
   "cell_type": "code",
   "execution_count": null,
   "id": "268065e4",
   "metadata": {},
   "outputs": [],
   "source": [
    "final_df = new_df18 + new_df19 + new_df20"
   ]
  },
  {
   "cell_type": "code",
   "execution_count": null,
   "id": "7e59dfb3",
   "metadata": {},
   "outputs": [],
   "source": [
    "final_df.to_csv('main_data.csv',index=False)"
   ]
  }
 ],
 "metadata": {
  "kernelspec": {
   "display_name": "Python 3 (ipykernel)",
   "language": "python",
   "name": "python3"
  },
  "language_info": {
   "codemirror_mode": {
    "name": "ipython",
    "version": 3
   },
   "file_extension": ".py",
   "mimetype": "text/x-python",
   "name": "python",
   "nbconvert_exporter": "python",
   "pygments_lexer": "ipython3",
   "version": "3.9.13"
  }
 },
 "nbformat": 4,
 "nbformat_minor": 5
}
